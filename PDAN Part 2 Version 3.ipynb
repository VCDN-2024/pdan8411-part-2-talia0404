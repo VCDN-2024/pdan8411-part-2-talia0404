{
 "cells": [
  {
   "cell_type": "markdown",
   "metadata": {},
   "source": [
    "## **ST10083706**\n",
    "## **PDAN8411 Part 2**\n",
    "\n",
    "#### **Reference to dataset:**\n",
    "\n",
    "Kaggle. 2024. Heart Disease Dataset. [Online] Available at: https://www.kaggle.com/datasets/mexwell/heart-disease-dataset [Accessed: 20 May 2024]\n",
    "\n",
    "#### **Dataset description:**\n",
    "\n",
    "According to Kaggle, 2024, this heart disease dataset is curated by combining 5 popular heart disease datasets already available independently but not combined before. These datasets were collected and were combined at a single place to help further along research on CAD (Coronary artery disease)-related machine learning and data mining algorithms. It is also hoped to help advance clinical diagnosis and early treatment(Kaggle, 2024). \n",
    "This dataset consists of 1190 instances with 11 features.\n",
    "\n",
    "#### **Classification:**\n",
    "\n",
    "\n",
    "\n",
    "\n",
    "\n",
    "\n",
    "\n",
    "‌"
   ]
  },
  {
   "cell_type": "code",
   "execution_count": 5,
   "metadata": {},
   "outputs": [],
   "source": [
    "import numpy as np\n",
    "import pandas as pd\n",
    "import seaborn as sns\n",
    "import matplotlib.pyplot as plt"
   ]
  }
 ],
 "metadata": {
  "kernelspec": {
   "display_name": "Python 3",
   "language": "python",
   "name": "python3"
  },
  "language_info": {
   "codemirror_mode": {
    "name": "ipython",
    "version": 3
   },
   "file_extension": ".py",
   "mimetype": "text/x-python",
   "name": "python",
   "nbconvert_exporter": "python",
   "pygments_lexer": "ipython3",
   "version": "3.12.2"
  }
 },
 "nbformat": 4,
 "nbformat_minor": 2
}
